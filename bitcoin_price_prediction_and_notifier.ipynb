{
  "nbformat": 4,
  "nbformat_minor": 0,
  "metadata": {
    "colab": {
      "provenance": [],
      "authorship_tag": "ABX9TyM99+WR4pbYCtzVcSakpGsF",
      "include_colab_link": true
    },
    "kernelspec": {
      "name": "python3",
      "display_name": "Python 3"
    },
    "language_info": {
      "name": "python"
    }
  },
  "cells": [
    {
      "cell_type": "markdown",
      "metadata": {
        "id": "view-in-github",
        "colab_type": "text"
      },
      "source": [
        "<a href=\"https://colab.research.google.com/github/Bindu3sriya/bitcoin_pridction/blob/main/bitcoin_price_prediction_and_notifier.ipynb\" target=\"_parent\"><img src=\"https://colab.research.google.com/assets/colab-badge.svg\" alt=\"Open In Colab\"/></a>"
      ]
    },
    {
      "cell_type": "code",
      "source": [
        "import pandas as pd\n",
        "from sklearn.model_selection import train_test_split, GridSearchCV\n",
        "from sklearn.linear_model import LinearRegression\n",
        "from sklearn.metrics import mean_squared_error\n",
        "from sklearn.preprocessing import MinMaxScaler, StandardScaler\n",
        "import datetime\n",
        "import requests\n",
        "\n"
      ],
      "metadata": {
        "id": "qBmbjw-5bA51"
      },
      "execution_count": 102,
      "outputs": []
    },
    {
      "cell_type": "code",
      "source": [
        "data = pd.read_csv('https://raw.githubusercontent.com/Bindu3sriya/dataset/main/BTC-USD.csv')\n"
      ],
      "metadata": {
        "id": "DGsW4wXgZ7-j"
      },
      "execution_count": 103,
      "outputs": []
    },
    {
      "cell_type": "code",
      "source": [
        "data.dropna(subset=['Date', 'Close'], inplace=True)\n",
        "data.isnull().sum()\n",
        "\n"
      ],
      "metadata": {
        "id": "0i36sz29bteF",
        "colab": {
          "base_uri": "https://localhost:8080/"
        },
        "outputId": "aafe7359-7f2c-476a-bc1d-6aee3158e3d8"
      },
      "execution_count": 104,
      "outputs": [
        {
          "output_type": "execute_result",
          "data": {
            "text/plain": [
              "Date         0\n",
              "Open         0\n",
              "High         0\n",
              "Low          0\n",
              "Close        0\n",
              "Adj Close    0\n",
              "Volume       0\n",
              "dtype: int64"
            ]
          },
          "metadata": {},
          "execution_count": 104
        }
      ]
    },
    {
      "cell_type": "code",
      "source": [
        "data['Date'] = pd.to_datetime(data['Date'])\n",
        "data['DayOfWeek'] = data['Date'].dt.dayofweek\n",
        "print(data)\n"
      ],
      "metadata": {
        "id": "RZj35C5WbvV2",
        "colab": {
          "base_uri": "https://localhost:8080/"
        },
        "outputId": "48b79bd0-a9fb-4226-92d3-52d23e4f7c2c"
      },
      "execution_count": 105,
      "outputs": [
        {
          "output_type": "stream",
          "name": "stdout",
          "text": [
            "          Date          Open          High           Low         Close  \\\n",
            "0   2022-08-06  23291.423828  23326.562500  22961.279297  22961.279297   \n",
            "1   2022-08-07  22963.505859  23359.009766  22894.556641  23175.890625   \n",
            "2   2022-08-08  23179.527344  24203.689453  23176.546875  23809.486328   \n",
            "3   2022-08-09  23811.484375  23898.615234  22982.000000  23164.318359   \n",
            "4   2022-08-10  23162.898438  24127.414063  22771.519531  23947.642578   \n",
            "..         ...           ...           ...           ...           ...   \n",
            "358 2023-07-30  29357.093750  29443.169922  29059.501953  29275.308594   \n",
            "359 2023-07-31  29278.314453  29489.873047  29131.578125  29230.111328   \n",
            "360 2023-08-01  29230.873047  29675.732422  28657.023438  29675.732422   \n",
            "361 2023-08-02  29704.146484  29987.998047  28946.509766  29151.958984   \n",
            "365 2023-08-06  29032.826172  29093.957031  28964.210938  29039.011719   \n",
            "\n",
            "        Adj Close        Volume  DayOfWeek  \n",
            "0    22961.279297  1.597826e+10          5  \n",
            "1    23175.890625  1.588682e+10          6  \n",
            "2    23809.486328  2.857554e+10          0  \n",
            "3    23164.318359  2.355572e+10          1  \n",
            "4    23947.642578  3.283743e+10          2  \n",
            "..            ...           ...        ...  \n",
            "358  29275.308594  8.678455e+09          6  \n",
            "359  29230.111328  1.165678e+10          0  \n",
            "360  29675.732422  1.827239e+10          1  \n",
            "361  29151.958984  1.921266e+10          2  \n",
            "365  29039.011719  6.555800e+09          6  \n",
            "\n",
            "[363 rows x 8 columns]\n"
          ]
        }
      ]
    },
    {
      "cell_type": "code",
      "source": [
        "train_data, val_data = train_test_split(data, test_size=0.2, shuffle=False)\n"
      ],
      "metadata": {
        "id": "-sWgJ0l5b0tP"
      },
      "execution_count": 106,
      "outputs": []
    },
    {
      "cell_type": "code",
      "source": [
        "X_train = train_data[['DayOfWeek']]  # Features\n",
        "y_train = train_data['Close']         # Target\n",
        "scaler = MinMaxScaler()\n",
        "X_train_scaled = scaler.fit_transform(X_train)\n"
      ],
      "metadata": {
        "id": "aEKwoFemb7fM"
      },
      "execution_count": 107,
      "outputs": []
    },
    {
      "cell_type": "code",
      "source": [
        "model = LinearRegression()\n",
        "model.fit(X_train_scaled, y_train)"
      ],
      "metadata": {
        "colab": {
          "base_uri": "https://localhost:8080/",
          "height": 74
        },
        "id": "D1itAN77b-pr",
        "outputId": "d1d9c554-a277-4869-fcb9-d0894def9e18"
      },
      "execution_count": 108,
      "outputs": [
        {
          "output_type": "execute_result",
          "data": {
            "text/plain": [
              "LinearRegression()"
            ],
            "text/html": [
              "<style>#sk-container-id-8 {color: black;background-color: white;}#sk-container-id-8 pre{padding: 0;}#sk-container-id-8 div.sk-toggleable {background-color: white;}#sk-container-id-8 label.sk-toggleable__label {cursor: pointer;display: block;width: 100%;margin-bottom: 0;padding: 0.3em;box-sizing: border-box;text-align: center;}#sk-container-id-8 label.sk-toggleable__label-arrow:before {content: \"▸\";float: left;margin-right: 0.25em;color: #696969;}#sk-container-id-8 label.sk-toggleable__label-arrow:hover:before {color: black;}#sk-container-id-8 div.sk-estimator:hover label.sk-toggleable__label-arrow:before {color: black;}#sk-container-id-8 div.sk-toggleable__content {max-height: 0;max-width: 0;overflow: hidden;text-align: left;background-color: #f0f8ff;}#sk-container-id-8 div.sk-toggleable__content pre {margin: 0.2em;color: black;border-radius: 0.25em;background-color: #f0f8ff;}#sk-container-id-8 input.sk-toggleable__control:checked~div.sk-toggleable__content {max-height: 200px;max-width: 100%;overflow: auto;}#sk-container-id-8 input.sk-toggleable__control:checked~label.sk-toggleable__label-arrow:before {content: \"▾\";}#sk-container-id-8 div.sk-estimator input.sk-toggleable__control:checked~label.sk-toggleable__label {background-color: #d4ebff;}#sk-container-id-8 div.sk-label input.sk-toggleable__control:checked~label.sk-toggleable__label {background-color: #d4ebff;}#sk-container-id-8 input.sk-hidden--visually {border: 0;clip: rect(1px 1px 1px 1px);clip: rect(1px, 1px, 1px, 1px);height: 1px;margin: -1px;overflow: hidden;padding: 0;position: absolute;width: 1px;}#sk-container-id-8 div.sk-estimator {font-family: monospace;background-color: #f0f8ff;border: 1px dotted black;border-radius: 0.25em;box-sizing: border-box;margin-bottom: 0.5em;}#sk-container-id-8 div.sk-estimator:hover {background-color: #d4ebff;}#sk-container-id-8 div.sk-parallel-item::after {content: \"\";width: 100%;border-bottom: 1px solid gray;flex-grow: 1;}#sk-container-id-8 div.sk-label:hover label.sk-toggleable__label {background-color: #d4ebff;}#sk-container-id-8 div.sk-serial::before {content: \"\";position: absolute;border-left: 1px solid gray;box-sizing: border-box;top: 0;bottom: 0;left: 50%;z-index: 0;}#sk-container-id-8 div.sk-serial {display: flex;flex-direction: column;align-items: center;background-color: white;padding-right: 0.2em;padding-left: 0.2em;position: relative;}#sk-container-id-8 div.sk-item {position: relative;z-index: 1;}#sk-container-id-8 div.sk-parallel {display: flex;align-items: stretch;justify-content: center;background-color: white;position: relative;}#sk-container-id-8 div.sk-item::before, #sk-container-id-8 div.sk-parallel-item::before {content: \"\";position: absolute;border-left: 1px solid gray;box-sizing: border-box;top: 0;bottom: 0;left: 50%;z-index: -1;}#sk-container-id-8 div.sk-parallel-item {display: flex;flex-direction: column;z-index: 1;position: relative;background-color: white;}#sk-container-id-8 div.sk-parallel-item:first-child::after {align-self: flex-end;width: 50%;}#sk-container-id-8 div.sk-parallel-item:last-child::after {align-self: flex-start;width: 50%;}#sk-container-id-8 div.sk-parallel-item:only-child::after {width: 0;}#sk-container-id-8 div.sk-dashed-wrapped {border: 1px dashed gray;margin: 0 0.4em 0.5em 0.4em;box-sizing: border-box;padding-bottom: 0.4em;background-color: white;}#sk-container-id-8 div.sk-label label {font-family: monospace;font-weight: bold;display: inline-block;line-height: 1.2em;}#sk-container-id-8 div.sk-label-container {text-align: center;}#sk-container-id-8 div.sk-container {/* jupyter's `normalize.less` sets `[hidden] { display: none; }` but bootstrap.min.css set `[hidden] { display: none !important; }` so we also need the `!important` here to be able to override the default hidden behavior on the sphinx rendered scikit-learn.org. See: https://github.com/scikit-learn/scikit-learn/issues/21755 */display: inline-block !important;position: relative;}#sk-container-id-8 div.sk-text-repr-fallback {display: none;}</style><div id=\"sk-container-id-8\" class=\"sk-top-container\"><div class=\"sk-text-repr-fallback\"><pre>LinearRegression()</pre><b>In a Jupyter environment, please rerun this cell to show the HTML representation or trust the notebook. <br />On GitHub, the HTML representation is unable to render, please try loading this page with nbviewer.org.</b></div><div class=\"sk-container\" hidden><div class=\"sk-item\"><div class=\"sk-estimator sk-toggleable\"><input class=\"sk-toggleable__control sk-hidden--visually\" id=\"sk-estimator-id-8\" type=\"checkbox\" checked><label for=\"sk-estimator-id-8\" class=\"sk-toggleable__label sk-toggleable__label-arrow\">LinearRegression</label><div class=\"sk-toggleable__content\"><pre>LinearRegression()</pre></div></div></div></div></div>"
            ]
          },
          "metadata": {},
          "execution_count": 108
        }
      ]
    },
    {
      "cell_type": "code",
      "source": [
        "X_val = val_data[['DayOfWeek']]\n",
        "X_val_scaled = scaler.transform(X_val)\n"
      ],
      "metadata": {
        "id": "ZCB8ZHrmcAa3"
      },
      "execution_count": 109,
      "outputs": []
    },
    {
      "cell_type": "code",
      "source": [
        "y_val_pred = model.predict(X_val_scaled)\n",
        "val_rmse = mean_squared_error(val_data['Close'], y_val_pred, squared=False)\n",
        "print(f'Validation RMSE: {val_rmse:.2f}')"
      ],
      "metadata": {
        "colab": {
          "base_uri": "https://localhost:8080/"
        },
        "id": "_-XTXTGjcFZK",
        "outputId": "5ed7e295-43d6-4f8f-f7ba-574eb2232efd"
      },
      "execution_count": 110,
      "outputs": [
        {
          "output_type": "stream",
          "name": "stdout",
          "text": [
            "Validation RMSE: 6997.93\n"
          ]
        }
      ]
    },
    {
      "cell_type": "code",
      "source": [
        "user_threshold = float(input(\"Enter your desired price threshold: \"))"
      ],
      "metadata": {
        "colab": {
          "base_uri": "https://localhost:8080/"
        },
        "id": "S6K7z2YKcJEs",
        "outputId": "001c2592-abad-42b3-aad3-88a8465a3240"
      },
      "execution_count": 126,
      "outputs": [
        {
          "name": "stdout",
          "output_type": "stream",
          "text": [
            "Enter your desired price threshold: 22049.36\n"
          ]
        }
      ]
    },
    {
      "cell_type": "code",
      "source": [
        "current_day_of_week = datetime.datetime.now().weekday()"
      ],
      "metadata": {
        "id": "64nRBNgoloXb"
      },
      "execution_count": 127,
      "outputs": []
    },
    {
      "cell_type": "code",
      "source": [
        "day_names = ['Monday', 'Tuesday', 'Wednesday', 'Thursday', 'Friday', 'Saturday', 'Sunday']\n"
      ],
      "metadata": {
        "id": "Jiw7MEnnocku"
      },
      "execution_count": 128,
      "outputs": []
    },
    {
      "cell_type": "code",
      "source": [
        "notification_message = \"\"\n",
        "for day_offset in range(1, 7):  # Predict next 6 days\n",
        "    next_day = (current_day_of_week + day_offset) % 7\n",
        "    predicted_price = model.predict([[next_day]])[0]\n",
        "\n",
        "    if predicted_price <= user_threshold:\n",
        "        day_name = day_names[next_day]\n",
        "        day_date = (datetime.datetime.now() + datetime.timedelta(days=day_offset)).strftime('%Y-%m-%d')\n",
        "        notification_message += f\"Predicted price for {day_name} ({day_date}) is below threshold. Predicted price: {predicted_price:.2f} USD.\\n\"\n",
        "\n",
        "# Send notification if applicable\n",
        "if notification_message:\n",
        "    print(\"Sending notification...\")\n",
        "    api_url = 'https://api.callmebot.com/whatsapp.php?phone=+919573639109&apikey=2278832&text=' + notification_message\n",
        "    response = requests.post(api_url)\n",
        "\n",
        "    if response.status_code == 200:\n",
        "        print(\"WhatsApp notification sent successfully.\")\n",
        "    else:\n",
        "        print(\"Error sending WhatsApp notification.\")\n",
        "else:\n",
        "    print(\"No days with predicted price below threshold.\")\n",
        "\n",
        "print(\"Prediction and notification complete.\")"
      ],
      "metadata": {
        "colab": {
          "base_uri": "https://localhost:8080/"
        },
        "id": "dxVftivPodLY",
        "outputId": "77980731-0818-439d-a741-c5a1fdeb8922"
      },
      "execution_count": 129,
      "outputs": [
        {
          "output_type": "stream",
          "name": "stdout",
          "text": [
            "Sending notification...\n",
            "WhatsApp notification sent successfully.\n",
            "Prediction and notification complete.\n"
          ]
        }
      ]
    }
  ]
}